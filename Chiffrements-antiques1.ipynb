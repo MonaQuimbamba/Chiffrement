{
 "cells": [
  {
   "cell_type": "markdown",
   "id": "735dd204",
   "metadata": {},
   "source": [
    "#### Master 1ère année\n",
    "#### Initiation à la Cryptographie\n",
    "\n",
    "# Chiffrements antiques "
   ]
  },
  {
   "cell_type": "code",
   "execution_count": 286,
   "id": "1d7e23e0",
   "metadata": {},
   "outputs": [],
   "source": [
    "import numpy as np\n",
    "import string"
   ]
  },
  {
   "cell_type": "markdown",
   "id": "7d08c387",
   "metadata": {},
   "source": [
    "### [César]\n",
    "\n",
    "On considère le chiffrement par décalage de d positions des lettres de l'alphabet. Si\n",
    "d = 3, le chiffrement est appelé Chiffre de César et ainsi la lettre A devient D, la lettre B devient E,\n",
    "etc"
   ]
  },
  {
   "cell_type": "code",
   "execution_count": 14,
   "id": "de6c7ba7",
   "metadata": {},
   "outputs": [],
   "source": [
    "def chiffrerCesar(clair,clé):\n",
    "    chiffre=\"\"\n",
    "    for lettre in clair:\n",
    "        val=ord(lettre)+clé\n",
    "        chiffre+=chr(val)\n",
    "    return chiffre\n",
    "\n",
    "def decffirerCesar(chiffré,clé):\n",
    "    clair=\"\"\n",
    "    for lettre in chiffré:\n",
    "        val=ord(lettre)-clé\n",
    "        clair+=chr(val)\n",
    "    return clair\n"
   ]
  },
  {
   "cell_type": "markdown",
   "id": "c8780776",
   "metadata": {},
   "source": [
    "### 1 - Chiffrer le message suivant ****CESAR VAINCRA ***"
   ]
  },
  {
   "cell_type": "code",
   "execution_count": 13,
   "id": "6f53d49b",
   "metadata": {},
   "outputs": [
    {
     "data": {
      "text/plain": [
       "('Le chiffré est : ', 'fhvdu#ydlqfud')"
      ]
     },
     "execution_count": 13,
     "metadata": {},
     "output_type": "execute_result"
    }
   ],
   "source": [
    "msg=\"cesar vaincra\"\n",
    "d=3\n",
    "\n",
    "\"Le chiffré est : \",chiffrerCesar(msg,d)"
   ]
  },
  {
   "cell_type": "markdown",
   "id": "60815780",
   "metadata": {},
   "source": [
    "### 2 - Déchiffrer le message suivant  ***DOHDMDFWDHVW***"
   ]
  },
  {
   "cell_type": "code",
   "execution_count": 16,
   "id": "db1ddd09",
   "metadata": {},
   "outputs": [
    {
     "data": {
      "text/plain": [
       "(' Le clair est : ', 'ALEAJACTAEST')"
      ]
     },
     "execution_count": 16,
     "metadata": {},
     "output_type": "execute_result"
    }
   ],
   "source": [
    "chiffré=\"DOHDMDFWDHVW\"\n",
    "\" Le clair est : \",decffirerCesar(chiffré,d)"
   ]
  },
  {
   "cell_type": "markdown",
   "id": "1bf82317",
   "metadata": {},
   "source": [
    "### On peut généraliser par une substitution quelconque : on fait correspondre l'alphabet ordonné avec un alphabet permuté. Combien y-a-t-il de possibilités?"
   ]
  },
  {
   "cell_type": "markdown",
   "id": "8783e0b1",
   "metadata": {},
   "source": [
    "R : 26!-1 possibilités , car on prend pas la permuntation à une lettre"
   ]
  },
  {
   "cell_type": "markdown",
   "id": "8db90f26",
   "metadata": {},
   "source": [
    "### [Carré de Polybe] \n",
    "\n",
    "Le chiffrement est effectué à l'aide d'une matrice indexée par les entiers\n",
    "de 1 à 5 dans laquelle on met les 26 lettres de l'alphabet (W supprimé ou I et J sont dans la même case).\n",
    "Par exemple, on considère la matrice suivante :\n",
    "\n",
    "\n",
    "|   | 0 | 1 | 2 | 3 | 4 |\n",
    "|:-:|:-:|:-:|:-:|:-:|:-:|\n",
    "| 0 | A | B | C | D | E |\n",
    "| 1 | F | G | H | I | J |\n",
    "| 2 | K | L | M | N | O |\n",
    "| 3 | P | Q | R | S | T |\n",
    "| 4 | U | V | X | Y | Z |"
   ]
  },
  {
   "cell_type": "code",
   "execution_count": 127,
   "id": "3ff71b61",
   "metadata": {},
   "outputs": [],
   "source": [
    "def ajouterCléAuCarre(clé):\n",
    "    carre=np.zeros((5,5))\n",
    "    lig=0\n",
    "    col=0\n",
    "    for lettre in clé:\n",
    "        if ord(lettre.upper()) not in carre:\n",
    "            if col==5: # au bout d'une ligne \n",
    "                lig+=1\n",
    "                col=0\n",
    "                \n",
    "            if lig==5:\n",
    "                break\n",
    "                \n",
    "            carre[lig][col]=ord(lettre.upper())\n",
    "            col+=1\n",
    "    return carre,lig,col\n",
    "    \n",
    "def terminerLeCarre(carre,lig,col):\n",
    "    col=col\n",
    "    lig=lig\n",
    "    alph=[\"a\", \"b\", \"c\", \"d\",\"e\", \"f\", \"g\", \"h\", \"i\", \"j\", \"k\", \"l\", \"m\", \"n\", \"o\", \"p\", \"q\", \"r\", \"s\", \"t\", \"u\", \"v\", \"x\", \"y\" , \"z\"]\n",
    "    for lettre in alph:\n",
    "        if ord(lettre.upper()) not in carre:\n",
    "            if col==5: # au bout d'une ligne \n",
    "                lig+=1\n",
    "                col=0\n",
    "                \n",
    "            if lig==5:\n",
    "                break\n",
    "                \n",
    "            carre[lig][col]=ord(lettre.upper())\n",
    "            col+=1\n",
    "    return carre\n",
    "\n",
    "\n",
    "def findLettre(lettre,carre):\n",
    "    res=\"\"\n",
    "    for lig in range(carre.shape[0]):\n",
    "        find = False \n",
    "        for col in range(carre.shape[1]):\n",
    "            if lettre==carre[lig][col]:\n",
    "                res+=str(lig)+str(col)\n",
    "                find=True\n",
    "                break\n",
    "        if find:\n",
    "            break\n",
    "    return res+\"-\"\n",
    "            \n",
    "            \n",
    "            \n",
    "def chifferPolybe(clair,carre):\n",
    "    res=\"\"\n",
    "    for lettre in clair:\n",
    "        res+=findLettre(ord(lettre.upper()),carre)\n",
    "    return res\n",
    "\n",
    "\n",
    "def dechiffrerPolybe(chiffre,carre):\n",
    "    res=\"\"\n",
    "    for item in chiffre.split(\"-\"):\n",
    "        if item:\n",
    "            lig=int(item[0])\n",
    "            col=int(item[1])\n",
    "            val=carre[lig][col]\n",
    "            #print(int(val),\"<<\")\n",
    "            res+=chr(int(carre[lig][col]))\n",
    "    return res\n",
    "    \n",
    "        "
   ]
  },
  {
   "cell_type": "code",
   "execution_count": 128,
   "id": "7d088574",
   "metadata": {},
   "outputs": [
    {
     "data": {
      "text/plain": [
       "(' Le chiffre est : ', '02-00-32-32-04-03-04-30-24-21-43-01-04-')"
      ]
     },
     "execution_count": 128,
     "metadata": {},
     "output_type": "execute_result"
    }
   ],
   "source": [
    "carre,lig,col=ajouterCléAuCarre(\"abcde\")\n",
    "terminerLeCarre(carre,lig,col)\n",
    "clair=\"CarreDEPolybe\"\n",
    "chiffré=chifferPolybe(clair,carre)\n",
    "\" Le chiffre est : \",chifferPolybe(clair,carre)"
   ]
  },
  {
   "cell_type": "code",
   "execution_count": 131,
   "id": "117ea3a1",
   "metadata": {},
   "outputs": [
    {
     "data": {
      "text/plain": [
       "(' Le déchiffé est : ', 'CARREDEPOLYBE')"
      ]
     },
     "execution_count": 131,
     "metadata": {},
     "output_type": "execute_result"
    }
   ],
   "source": [
    "\" Le déchiffé est : \",dechiffrerPolybe(chiffré,carre)"
   ]
  },
  {
   "cell_type": "markdown",
   "id": "d357dae1",
   "metadata": {},
   "source": [
    "### [Permutation] \n",
    "\n",
    "On considère le chiffrement par une écriture en dent de scie : on prend une\n",
    "lettre sur deux du mot puis le reste"
   ]
  },
  {
   "cell_type": "code",
   "execution_count": 276,
   "id": "d23c7fb6",
   "metadata": {},
   "outputs": [],
   "source": [
    "def chiffrementDentdeScie(clair,d):\n",
    "    clair=list(clair)\n",
    "    res=\"\"\n",
    "    for i in range(0,len(clair),d):\n",
    "        res+=clair[i]\n",
    "        \n",
    "    for i in range(1,len(clair),2):\n",
    "        res+=clair[i]\n",
    "    return res\n",
    "\n",
    "def dechiffrerDentdeScie(chiffré):\n",
    "    res=[\"\"]*len(chiffré)\n",
    "    tailleTotal=len(chiffré)\n",
    "    moitié2=int(tailleTotal/2)\n",
    "    moitié1=tailleTotal-moitié2\n",
    "    mot1 = chiffré[:moitié1]\n",
    "    mot2 = chiffré[moitié2+1:]\n",
    "    for i in range(0,moitié1):\n",
    "        res[2*i]=mot1[i]\n",
    "    for i in range(1,moitié2+1):\n",
    "           res[2*i-1]=mot2[i-1]\n",
    "        \n",
    "    \n",
    "    return res"
   ]
  },
  {
   "cell_type": "markdown",
   "id": "5e4f49cc",
   "metadata": {},
   "source": [
    "### 1 - Chiffrer le message suivant ***MASTERLIMOGES***."
   ]
  },
  {
   "cell_type": "code",
   "execution_count": 277,
   "id": "804de38f",
   "metadata": {},
   "outputs": [
    {
     "data": {
      "text/plain": [
       "(' Le chiffré est : ', 'mselmgsatrioe')"
      ]
     },
     "execution_count": 277,
     "metadata": {},
     "output_type": "execute_result"
    }
   ],
   "source": [
    "clair=\"masterlimoges\"\n",
    "chiffré=chiffrementDentdeScie(clair,2)\n",
    "\" Le chiffré est : \",chiffré"
   ]
  },
  {
   "cell_type": "code",
   "execution_count": 278,
   "id": "6f368309",
   "metadata": {},
   "outputs": [
    {
     "data": {
      "text/plain": [
       "(' Le dechiffré est : ',\n",
       " ['m', 'a', 's', 't', 'e', 'r', 'l', 'i', 'm', 'o', 'g', 'e', 's'])"
      ]
     },
     "execution_count": 278,
     "metadata": {},
     "output_type": "execute_result"
    }
   ],
   "source": [
    "\" Le dechiffré est : \",dechiffrerDentdeScie(chiffré)"
   ]
  },
  {
   "cell_type": "markdown",
   "id": "5b9a041c",
   "metadata": {},
   "source": [
    "## [Vigenère, ≈ 1550]\n",
    "\n",
    "Chaque lettre du message est déplacé dans l'alphabet selon un vecteur\n",
    "décalage de longueur k, qui est utilisé comme clef (A=1). Ce vecteur est répété si nécessaire."
   ]
  },
  {
   "cell_type": "code",
   "execution_count": 337,
   "id": "e2f1d731",
   "metadata": {},
   "outputs": [],
   "source": [
    "def decoupage(chaine,cle):\n",
    "    chaine = list(chaine)\n",
    "    decoupage=[]\n",
    "    if len(cle) >1:\n",
    "        while len(chaine)>0:\n",
    "            lTemp=[]\n",
    "            for i in range(len(cle)):\n",
    "                if i <len(chaine):\n",
    "                    lTemp.append(chaine[i])\n",
    "            decoupage.append(lTemp)        \n",
    "            for i in range(len(cle)):\n",
    "                if len(chaine)>0:\n",
    "                    del chaine[0]\n",
    "    return decoupage\n",
    "\n",
    "def chiffrer(chaine,cle):\n",
    "    cypherText=\"\"\n",
    "    alph=list(string.ascii_uppercase)\n",
    "    decoup = decoupage(chaine,cle)\n",
    "    for bout in decoup:\n",
    "        morceau=\"\"\n",
    "        for i in range(len(bout)):\n",
    "            indexMot=alph.index(bout[i].upper())\n",
    "            indexCle=alph.index(cle[i].upper())\n",
    "            pos= indexMot+indexCle\n",
    "            pos=pos%26\n",
    "            morceau+=alph[pos]\n",
    "        cypherText+=morceau\n",
    "    return cypherText\n",
    "    \n",
    "def dechiffrer(chaine,cle):\n",
    "    plainText=\"\"\n",
    "    alph=list(string.ascii_uppercase)\n",
    "    decoup= decoupage(chaine,cle)\n",
    "    for bout in decoup:\n",
    "        morceau=\"\"\n",
    "        for i in range(len(bout)):\n",
    "            indexMot=alph.index(bout[i].upper())\n",
    "            indexCle=alph.index(cle[i].upper())\n",
    "            pos= indexMot-indexCle\n",
    "            pos=pos%26\n",
    "            morceau+=alph[pos]\n",
    "        plainText+=morceau\n",
    "    return plainText"
   ]
  },
  {
   "cell_type": "code",
   "execution_count": 342,
   "id": "f8bfcb46",
   "metadata": {},
   "outputs": [
    {
     "data": {
      "text/plain": [
       "(' Le chiffré est : ', 'HIYXRVDE')"
      ]
     },
     "execution_count": 342,
     "metadata": {},
     "output_type": "execute_result"
    }
   ],
   "source": [
    "clé=\"master\"\n",
    "clair=\"vigenere\"\n",
    "chiffré = chiffrer(clair,clé)\n",
    "\" Le chiffré est : \",chiffré"
   ]
  },
  {
   "cell_type": "code",
   "execution_count": 343,
   "id": "a3de9163",
   "metadata": {},
   "outputs": [
    {
     "data": {
      "text/plain": [
       "(' Le déchiffré est : ', 'VIGENERE')"
      ]
     },
     "execution_count": 343,
     "metadata": {},
     "output_type": "execute_result"
    }
   ],
   "source": [
    "dechiffré = dechiffrer(chiffré,clé)\n",
    "\" Le déchiffré est : \", dechiffré"
   ]
  },
  {
   "cell_type": "markdown",
   "id": "111f0227",
   "metadata": {},
   "source": [
    "### [Playfair, 1854]\n",
    "\n",
    "Le chiffre de Playfair utilise un tableau de 5x5 lettres, contenant un mot\n",
    "clé ou une phrase. La mémorisation du mot clé et de 4 règles faciles à suivre suffisait pour utiliser ce\n",
    "chiffrement.\n",
    "\n",
    "Pour construire le tableau, on devait d'abord le remplir avec les lettres du mot clé (en ignorant les\n",
    "doublons), puis le compléter avec les autres lettres de l'alphabet dans l'ordre (soit en omettant la lettre\n",
    "W peu courante, soit en occupant une même case pour les lettres I et J suivant les versions). Le mot clé\n",
    "peut être écrit en ligne, en colonne ou même en spirale (on choisira la version ligne).\n",
    "Pour chiffrer un message, il faut prendre les lettres 2 par 2 et appliquer les règles suivantes en fonction\n",
    "de la position des lettres dans la table :\n",
    "\n",
    " -  si les 2 lettres sont identiques (ou s'il n'en reste qu'une) mettre un 'X' après la première lettre. Chiffrer la nouvelle paire ainsi constituée et continuer avec la suivante.\n",
    "\n",
    " - si les lettres se trouvent sur la même ligne de la table, il faut les remplacer par celles se trouvant immédiatement à leur droite (en bouclant sur la gauche si le bord est atteint),\n",
    "\n",
    "- si les lettres apparaissent sur la même colonne, les remplacer par celles qui sont juste en dessous(en bouclant par le haut si le bas de la table est atteint),\n",
    "\n",
    "- sinon, remplacer les lettres par celles se trouvant sur la même ligne, mais dans le coin opposé du rectangle défini par la paire originale."
   ]
  },
  {
   "cell_type": "code",
   "execution_count": 345,
   "id": "a6db4298",
   "metadata": {},
   "outputs": [
    {
     "data": {
      "text/plain": [
       "array([[80., 76., 65., 89., 70.],\n",
       "       [73., 82., 66., 67., 68.],\n",
       "       [69., 71., 72., 74., 75.],\n",
       "       [77., 78., 79., 81., 83.],\n",
       "       [84., 85., 86., 88., 90.]])"
      ]
     },
     "execution_count": 345,
     "metadata": {},
     "output_type": "execute_result"
    }
   ],
   "source": [
    "carre,lig,col=ajouterCléAuCarre(\"PLAYFAIR\")\n",
    "clé = terminerLeCarre(carre,lig,col)\n",
    "clé"
   ]
  },
  {
   "cell_type": "code",
   "execution_count": 346,
   "id": "0fdf5fcd",
   "metadata": {},
   "outputs": [
    {
     "data": {
      "text/plain": [
       "'P'"
      ]
     },
     "execution_count": 346,
     "metadata": {},
     "output_type": "execute_result"
    }
   ],
   "source": [
    "def chiffrerPlayFair(clair,carre):\n",
    "    print(\" à terminer hahahaha\")\n",
    "    "
   ]
  }
 ],
 "metadata": {
  "kernelspec": {
   "display_name": "Python 3",
   "language": "python",
   "name": "python3"
  },
  "language_info": {
   "codemirror_mode": {
    "name": "ipython",
    "version": 3
   },
   "file_extension": ".py",
   "mimetype": "text/x-python",
   "name": "python",
   "nbconvert_exporter": "python",
   "pygments_lexer": "ipython3",
   "version": "3.6.9"
  }
 },
 "nbformat": 4,
 "nbformat_minor": 5
}
