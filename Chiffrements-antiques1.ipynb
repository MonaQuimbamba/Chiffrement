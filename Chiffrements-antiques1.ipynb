{
 "cells": [
  {
   "cell_type": "markdown",
   "id": "735dd204",
   "metadata": {},
   "source": [
    "#### Master 1ère année\n",
    "#### Initiation à la Cryptographie\n",
    "\n",
    "# Chiffrements antiques "
   ]
  },
  {
   "cell_type": "code",
   "execution_count": 1,
   "id": "1d7e23e0",
   "metadata": {},
   "outputs": [],
   "source": [
    "import numpy as np\n",
    "import string"
   ]
  },
  {
   "cell_type": "markdown",
   "id": "7d08c387",
   "metadata": {},
   "source": [
    "### [César]\n",
    "\n",
    "On considère le chiffrement par décalage de d positions des lettres de l'alphabet. Si\n",
    "d = 3, le chiffrement est appelé Chiffre de César et ainsi la lettre A devient D, la lettre B devient E,\n",
    "etc"
   ]
  },
  {
   "cell_type": "code",
   "execution_count": 65,
   "id": "de6c7ba7",
   "metadata": {},
   "outputs": [],
   "source": [
    "alph=list(string.ascii_uppercase)\n",
    "    \n",
    "def chiffrerCesar(clair,clé):\n",
    "    chiffre=\"\"\n",
    "    clair=clair.upper().replace(\" \",\"\")\n",
    "    for lettre in clair:\n",
    "        val=alph.index(lettre)+clé\n",
    "        chiffre+=alph[val]\n",
    "    return chiffre\n",
    "\n",
    "def decffirerCesar(chiffré,clé):\n",
    "    clair=\"\"\n",
    "    chiffré=chiffré.upper().replace(\" \",\"\")\n",
    "    for lettre in chiffré:\n",
    "        val=alph.index(lettre)-clé\n",
    "        clair+=alph[val]\n",
    "    return clair\n"
   ]
  },
  {
   "cell_type": "markdown",
   "id": "c8780776",
   "metadata": {},
   "source": [
    "### 1 - Chiffrer le message suivant ****CESAR VAINCRA ***"
   ]
  },
  {
   "cell_type": "code",
   "execution_count": 66,
   "id": "6f53d49b",
   "metadata": {},
   "outputs": [
    {
     "data": {
      "text/plain": [
       "('Le chiffré est : ', 'FHVDUYDLQFUD')"
      ]
     },
     "execution_count": 66,
     "metadata": {},
     "output_type": "execute_result"
    }
   ],
   "source": [
    "msg=\"cesar vaincra\"\n",
    "d=3\n",
    "\n",
    "\"Le chiffré est : \",chiffrerCesar(msg,d)"
   ]
  },
  {
   "cell_type": "markdown",
   "id": "60815780",
   "metadata": {},
   "source": [
    "### 2 - Déchiffrer le message suivant  ***DOHDMDFWDHVW***"
   ]
  },
  {
   "cell_type": "code",
   "execution_count": 67,
   "id": "db1ddd09",
   "metadata": {},
   "outputs": [
    {
     "data": {
      "text/plain": [
       "(' Le clair est : ', 'ALEAJACTAEST')"
      ]
     },
     "execution_count": 67,
     "metadata": {},
     "output_type": "execute_result"
    }
   ],
   "source": [
    "chiffré=\"DOHDMDFWDHVW\"\n",
    "\" Le clair est : \",decffirerCesar(chiffré,d)"
   ]
  },
  {
   "cell_type": "markdown",
   "id": "1bf82317",
   "metadata": {},
   "source": [
    "### On peut généraliser par une substitution quelconque : on fait correspondre l'alphabet ordonné avec un alphabet permuté. Combien y-a-t-il de possibilités?"
   ]
  },
  {
   "cell_type": "markdown",
   "id": "8783e0b1",
   "metadata": {},
   "source": [
    "R : 26!-1 possibilités , car on prend pas la permuntation à une lettre"
   ]
  },
  {
   "cell_type": "markdown",
   "id": "8db90f26",
   "metadata": {},
   "source": [
    "### [Carré de Polybe] \n",
    "\n",
    "Le chiffrement est effectué à l'aide d'une matrice indexée par les entiers\n",
    "de 1 à 5 dans laquelle on met les 26 lettres de l'alphabet (W supprimé ou I et J sont dans la même case).\n",
    "Par exemple, on considère la matrice suivante :\n",
    "\n",
    "\n",
    "|   | 0 | 1 | 2 | 3 | 4 |\n",
    "|:-:|:-:|:-:|:-:|:-:|:-:|\n",
    "| 0 | A | B | C | D | E |\n",
    "| 1 | F | G | H | I | J |\n",
    "| 2 | K | L | M | N | O |\n",
    "| 3 | P | Q | R | S | T |\n",
    "| 4 | U | V | X | Y | Z |"
   ]
  },
  {
   "cell_type": "code",
   "execution_count": 5,
   "id": "3ff71b61",
   "metadata": {},
   "outputs": [],
   "source": [
    "def ajouterCléAuCarre(clé):\n",
    "    carre=np.zeros((5,5))\n",
    "    lig=0\n",
    "    col=0\n",
    "    for lettre in clé:\n",
    "        if ord(lettre.upper()) not in carre:\n",
    "            if col==5: # au bout d'une ligne \n",
    "                lig+=1\n",
    "                col=0\n",
    "                \n",
    "            if lig==5:\n",
    "                break\n",
    "                \n",
    "            carre[lig][col]=ord(lettre.upper())\n",
    "            col+=1\n",
    "    return carre,lig,col\n",
    "    \n",
    "def terminerLeCarre(carre,lig,col):\n",
    "    col=col\n",
    "    lig=lig\n",
    "    alph=[\"a\", \"b\", \"c\", \"d\",\"e\", \"f\", \"g\", \"h\", \"i\", \"j\", \"k\", \"l\", \"m\", \"n\", \"o\", \"p\", \"q\", \"r\", \"s\", \"t\", \"u\", \"v\", \"x\", \"y\" , \"z\"]\n",
    "    for lettre in alph:\n",
    "        if ord(lettre.upper()) not in carre:\n",
    "            if col==5: # au bout d'une ligne \n",
    "                lig+=1\n",
    "                col=0\n",
    "                \n",
    "            if lig==5:\n",
    "                break\n",
    "                \n",
    "            carre[lig][col]=ord(lettre.upper())\n",
    "            col+=1\n",
    "    return carre\n",
    "\n",
    "\n",
    "def findLettre(lettre,carre):\n",
    "    res=\"\"\n",
    "    for lig in range(carre.shape[0]):\n",
    "        find = False \n",
    "        for col in range(carre.shape[1]):\n",
    "            if lettre==carre[lig][col]:\n",
    "                res+=str(lig)+str(col)\n",
    "                find=True\n",
    "                break\n",
    "        if find:\n",
    "            break\n",
    "    return res+\"-\"\n",
    "            \n",
    "            \n",
    "            \n",
    "def chifferPolybe(clair,carre):\n",
    "    res=\"\"\n",
    "    for lettre in clair:\n",
    "        res+=findLettre(ord(lettre.upper()),carre)\n",
    "    return res\n",
    "\n",
    "\n",
    "def dechiffrerPolybe(chiffre,carre):\n",
    "    res=\"\"\n",
    "    for item in chiffre.split(\"-\"):\n",
    "        if item:\n",
    "            lig=int(item[0])\n",
    "            col=int(item[1])\n",
    "            val=carre[lig][col]\n",
    "            #print(int(val),\"<<\")\n",
    "            res+=chr(int(carre[lig][col]))\n",
    "    return res\n",
    "    \n",
    "        "
   ]
  },
  {
   "cell_type": "code",
   "execution_count": 6,
   "id": "7d088574",
   "metadata": {},
   "outputs": [
    {
     "data": {
      "text/plain": [
       "(' Le chiffre est : ', '02-00-32-32-04-03-04-30-24-21-43-01-04-')"
      ]
     },
     "execution_count": 6,
     "metadata": {},
     "output_type": "execute_result"
    }
   ],
   "source": [
    "carre,lig,col=ajouterCléAuCarre(\"abcde\")\n",
    "terminerLeCarre(carre,lig,col)\n",
    "clair=\"CarreDEPolybe\"\n",
    "chiffré=chifferPolybe(clair,carre)\n",
    "\" Le chiffre est : \",chifferPolybe(clair,carre)"
   ]
  },
  {
   "cell_type": "code",
   "execution_count": 7,
   "id": "117ea3a1",
   "metadata": {},
   "outputs": [
    {
     "data": {
      "text/plain": [
       "(' Le déchiffé est : ', 'CARREDEPOLYBE')"
      ]
     },
     "execution_count": 7,
     "metadata": {},
     "output_type": "execute_result"
    }
   ],
   "source": [
    "\" Le déchiffé est : \",dechiffrerPolybe(chiffré,carre)"
   ]
  },
  {
   "cell_type": "markdown",
   "id": "d357dae1",
   "metadata": {},
   "source": [
    "### [Permutation] \n",
    "\n",
    "On considère le chiffrement par une écriture en dent de scie : on prend une\n",
    "lettre sur deux du mot puis le reste"
   ]
  },
  {
   "cell_type": "code",
   "execution_count": 8,
   "id": "d23c7fb6",
   "metadata": {},
   "outputs": [],
   "source": [
    "def chiffrementDentdeScie(clair,d):\n",
    "    clair=list(clair)\n",
    "    res=\"\"\n",
    "    for i in range(0,len(clair),d):\n",
    "        res+=clair[i]\n",
    "        \n",
    "    for i in range(1,len(clair),2):\n",
    "        res+=clair[i]\n",
    "    return res\n",
    "\n",
    "def dechiffrerDentdeScie(chiffré):\n",
    "    res=[\"\"]*len(chiffré)\n",
    "    tailleTotal=len(chiffré)\n",
    "    moitié2=int(tailleTotal/2)\n",
    "    moitié1=tailleTotal-moitié2\n",
    "    mot1 = chiffré[:moitié1]\n",
    "    mot2 = chiffré[moitié2+1:]\n",
    "    for i in range(0,moitié1):\n",
    "        res[2*i]=mot1[i]\n",
    "    for i in range(1,moitié2+1):\n",
    "           res[2*i-1]=mot2[i-1]\n",
    "        \n",
    "    \n",
    "    return res"
   ]
  },
  {
   "cell_type": "markdown",
   "id": "5e4f49cc",
   "metadata": {},
   "source": [
    "### 1 - Chiffrer le message suivant ***MASTERLIMOGES***."
   ]
  },
  {
   "cell_type": "code",
   "execution_count": 9,
   "id": "804de38f",
   "metadata": {},
   "outputs": [
    {
     "data": {
      "text/plain": [
       "(' Le chiffré est : ', 'mselmgsatrioe')"
      ]
     },
     "execution_count": 9,
     "metadata": {},
     "output_type": "execute_result"
    }
   ],
   "source": [
    "clair=\"masterlimoges\"\n",
    "chiffré=chiffrementDentdeScie(clair,2)\n",
    "\" Le chiffré est : \",chiffré"
   ]
  },
  {
   "cell_type": "code",
   "execution_count": 10,
   "id": "6f368309",
   "metadata": {},
   "outputs": [
    {
     "data": {
      "text/plain": [
       "(' Le dechiffré est : ',\n",
       " ['m', 'a', 's', 't', 'e', 'r', 'l', 'i', 'm', 'o', 'g', 'e', 's'])"
      ]
     },
     "execution_count": 10,
     "metadata": {},
     "output_type": "execute_result"
    }
   ],
   "source": [
    "\" Le dechiffré est : \",dechiffrerDentdeScie(chiffré)"
   ]
  },
  {
   "cell_type": "markdown",
   "id": "5b9a041c",
   "metadata": {},
   "source": [
    "## [Vigenère, ≈ 1550]\n",
    "\n",
    "Chaque lettre du message est déplacé dans l'alphabet selon un vecteur\n",
    "décalage de longueur k, qui est utilisé comme clef (A=1). Ce vecteur est répété si nécessaire."
   ]
  },
  {
   "cell_type": "code",
   "execution_count": 11,
   "id": "e2f1d731",
   "metadata": {},
   "outputs": [],
   "source": [
    "def decoupage(chaine,cle):\n",
    "    chaine = list(chaine)\n",
    "    decoupage=[]\n",
    "    if len(cle) >1:\n",
    "        while len(chaine)>0:\n",
    "            lTemp=[]\n",
    "            for i in range(len(cle)):\n",
    "                if i <len(chaine):\n",
    "                    lTemp.append(chaine[i])\n",
    "            decoupage.append(lTemp)        \n",
    "            for i in range(len(cle)):\n",
    "                if len(chaine)>0:\n",
    "                    del chaine[0]\n",
    "    return decoupage\n",
    "\n",
    "def chiffrer(chaine,cle):\n",
    "    cypherText=\"\"\n",
    "    alph=list(string.ascii_uppercase)\n",
    "    decoup = decoupage(chaine,cle)\n",
    "    for bout in decoup:\n",
    "        morceau=\"\"\n",
    "        for i in range(len(bout)):\n",
    "            indexMot=alph.index(bout[i].upper())\n",
    "            indexCle=alph.index(cle[i].upper())\n",
    "            pos= indexMot+indexCle\n",
    "            pos=pos%26\n",
    "            morceau+=alph[pos]\n",
    "        cypherText+=morceau\n",
    "    return cypherText\n",
    "    \n",
    "def dechiffrer(chaine,cle):\n",
    "    plainText=\"\"\n",
    "    alph=list(string.ascii_uppercase)\n",
    "    decoup= decoupage(chaine,cle)\n",
    "    for bout in decoup:\n",
    "        morceau=\"\"\n",
    "        for i in range(len(bout)):\n",
    "            indexMot=alph.index(bout[i].upper())\n",
    "            indexCle=alph.index(cle[i].upper())\n",
    "            pos= indexMot-indexCle\n",
    "            pos=pos%26\n",
    "            morceau+=alph[pos]\n",
    "        plainText+=morceau\n",
    "    return plainText"
   ]
  },
  {
   "cell_type": "code",
   "execution_count": 12,
   "id": "f8bfcb46",
   "metadata": {},
   "outputs": [
    {
     "data": {
      "text/plain": [
       "(' Le chiffré est : ', 'HIYXRVDE')"
      ]
     },
     "execution_count": 12,
     "metadata": {},
     "output_type": "execute_result"
    }
   ],
   "source": [
    "clé=\"master\"\n",
    "clair=\"vigenere\"\n",
    "chiffré = chiffrer(clair,clé)\n",
    "\" Le chiffré est : \",chiffré"
   ]
  },
  {
   "cell_type": "code",
   "execution_count": 13,
   "id": "a3de9163",
   "metadata": {},
   "outputs": [
    {
     "data": {
      "text/plain": [
       "(' Le déchiffré est : ', 'VIGENERE')"
      ]
     },
     "execution_count": 13,
     "metadata": {},
     "output_type": "execute_result"
    }
   ],
   "source": [
    "dechiffré = dechiffrer(chiffré,clé)\n",
    "\" Le déchiffré est : \", dechiffré"
   ]
  },
  {
   "cell_type": "markdown",
   "id": "111f0227",
   "metadata": {},
   "source": [
    "### [Playfair, 1854]\n",
    "\n",
    "Le chiffre de Playfair utilise un tableau de 5x5 lettres, contenant un mot\n",
    "clé ou une phrase. La mémorisation du mot clé et de 4 règles faciles à suivre suffisait pour utiliser ce\n",
    "chiffrement.\n",
    "\n",
    "Pour construire le tableau, on devait d'abord le remplir avec les lettres du mot clé (en ignorant les\n",
    "doublons), puis le compléter avec les autres lettres de l'alphabet dans l'ordre (soit en omettant la lettre\n",
    "W peu courante, soit en occupant une même case pour les lettres I et J suivant les versions). Le mot clé\n",
    "peut être écrit en ligne, en colonne ou même en spirale (on choisira la version ligne).\n",
    "Pour chiffrer un message, il faut prendre les lettres 2 par 2 et appliquer les règles suivantes en fonction\n",
    "de la position des lettres dans la table :\n",
    "\n",
    " -  si les 2 lettres sont identiques (ou s'il n'en reste qu'une) mettre un 'X' après la première lettre. Chiffrer la nouvelle paire ainsi constituée et continuer avec la suivante.\n",
    "\n",
    " - si les lettres se trouvent sur la même ligne de la table, il faut les remplacer par celles se trouvant immédiatement à leur droite (en bouclant sur la gauche si le bord est atteint),\n",
    "\n",
    "- si les lettres apparaissent sur la même colonne, les remplacer par celles qui sont juste en dessous(en bouclant par le haut si le bas de la table est atteint),\n",
    "\n",
    "- sinon, remplacer les lettres par celles se trouvant sur la même ligne, mais dans le coin opposé du rectangle défini par la paire originale."
   ]
  },
  {
   "cell_type": "code",
   "execution_count": 14,
   "id": "a6db4298",
   "metadata": {},
   "outputs": [
    {
     "data": {
      "text/plain": [
       "array([[80., 76., 65., 89., 70.],\n",
       "       [73., 82., 66., 67., 68.],\n",
       "       [69., 71., 72., 74., 75.],\n",
       "       [77., 78., 79., 81., 83.],\n",
       "       [84., 85., 86., 88., 90.]])"
      ]
     },
     "execution_count": 14,
     "metadata": {},
     "output_type": "execute_result"
    }
   ],
   "source": [
    "carre,lig,col=ajouterCléAuCarre(\"PLAYFAIR\")\n",
    "clé = terminerLeCarre(carre,lig,col)\n",
    "clé"
   ]
  },
  {
   "cell_type": "code",
   "execution_count": 15,
   "id": "0fdf5fcd",
   "metadata": {},
   "outputs": [],
   "source": [
    "def chiffrerPlayFair(clair,carre):\n",
    "    print(\" à terminer hahahaha\")\n",
    "    "
   ]
  },
  {
   "cell_type": "markdown",
   "id": "35f7dad1",
   "metadata": {},
   "source": [
    "### [ADFGVX, 1918] \n",
    "\n",
    "La première partie est le codage du message dans un alphabet réduit constitué des lettres A, D, F, G, V, X. La disposition des éléments sur la grille est partie intégrante de la clef (transmise au correspondant).\n",
    "\n",
    "\n",
    "\n",
    "|   | A | D | F | G | V | X |\n",
    "|:-:|:-:|:-:|:-:|:-:|:-:|:-:|\n",
    "| A | 8 | p | 3 | d | 1 | n |\n",
    "| D | 1 | t | 4 | o | a | h |\n",
    "| F | 7 | k | b | c | 5 | z |\n",
    "| G | j | u | 6 | w | g | m |\n",
    "| V | x | s | v | i | r | 2 |\n",
    "| X | 9 | e | y | 0 | f | q |\n",
    "\n",
    "\n",
    "\n",
    "\n",
    "Ainsi le 8 sera remplacé par AA et p par AD.\n",
    "\n",
    "message : attaques à 10 h 05\n",
    "Texte clair : a t t a q u e s à 1 0 h 0 5\n",
    "Texte chiffré (1ère étape) : DV DD DD DV XX GD XD VD DV AV XG DX XG FV\n",
    "\n",
    "La deuxième partie dépend d'un mot-clef, qui ici sera MARC par exemple, et qui doit être connu des deux correspondants. D'abord, les lettres du mot-clef sont écrites sur la première ligne d'une nouvelle grille. \n",
    "\n",
    "Ensuite, on porte le texte chiffré de la première étape sur une série de lignes, comme ci-dessous.\n",
    "\n",
    "\n",
    "Les colonnes de la grille sont ensuite remplacées de telle sorte que les lettres du mot-clé soient dans l'ordre alphabétique. Le texte chiffré fi nal est obtenu en descendant chaque colonne l'une après l'autre et en écrivant les lettres selon ce nouvel ordre. On lit donc le chiffré de haut en bas (puis gauche à droite).\n",
    "\n",
    "\n",
    "\n",
    "\n",
    "\n",
    "| M | A | R | C |\n",
    "|:-:|:-:|:-:|:-:|\n",
    "| D | V | D | D |\n",
    "| D | D | D | V |\n",
    "| X | X | G | D |\n",
    "| X | D | V | D |\n",
    "| D | V | A | V |\n",
    "| X | G | D | X |\n",
    "| X | G | F | V |\n",
    "\n",
    "\n",
    "\n",
    "Déplaçons les colonnes pour mettre les lettres du mot-clef dans l'ordre alphabétique\n",
    "\n",
    "| A | C | M | R |\n",
    "|:-:|:-:|:-:|:-:|\n",
    "| V | D | D | D |\n",
    "| D | V | D | D |\n",
    "| X | D | X | G |\n",
    "| D | D | X | V |\n",
    "| V | V | D | A |\n",
    "| G | X | X | D |\n",
    "| G | V | X | F |\n",
    "\n",
    "\n",
    "\n",
    "Texte chiffré final VDXDVGGDVDDVXVDDXXDXXDDGVADF\n",
    "\n",
    "\n",
    "\n",
    "Le texte chiffré final pourra être transmis en morse, et le destinataire inversera le procédé de chiffrement pour retrouver le texte originel. Le texte chiffré n'est fait qu'avec six lettres ADFGVX, qui qualifient les lignes et les colonnes de la première grille. On demande souvent pourquoi ces lettres ont été choisies plutôt que, disons, les lettres de A à F. \n",
    "\n",
    "La raison est que les lettres A,D,F,G,V et X ne se ressemblent pas lorsqu'on les traduit dans le système points et traits du Morse, ce qui minimise les risques 'erreurs\n",
    "dans les transmissions\n"
   ]
  },
  {
   "cell_type": "code",
   "execution_count": 17,
   "id": "37f00ea5",
   "metadata": {},
   "outputs": [],
   "source": [
    "def chifferADFGVX(clair):\n",
    "    print(\" à faire \")\n",
    "    \n",
    "def dechifferADFGVX(chiffré):\n",
    "    print(\" à faire \")"
   ]
  },
  {
   "cell_type": "markdown",
   "id": "a593ded1",
   "metadata": {},
   "source": [
    "- 1 Chiffrer  ChiffrementADFGVX avec cette méthode avec la clef  ***RAPIDE***"
   ]
  },
  {
   "cell_type": "markdown",
   "id": "1658414b",
   "metadata": {},
   "source": [
    "- 2 Déchiffrer  AGDXDGXXVXDDVAXXDDVXVGFDXGVGDX  sachant que le mot-clef est ***MASTER***"
   ]
  },
  {
   "attachments": {
    "image.png": {
     "image/png": "[encoded data removed]"
    }
   },
   "cell_type": "markdown",
   "id": "d5135a23",
   "metadata": {},
   "source": [
    "### [ENIGMA]\n",
    "\n",
    "On considère un rotor Enigma simplifié à 6 paires de connections.\n",
    "\n",
    "![image.png](attachment:image.png)\n",
    "\n",
    "Les positions gauche et droite sont reliées de la façon suivante : (1-3, 2-2, 3-4, 4-1, 5-6, 6-5)."
   ]
  },
  {
   "cell_type": "code",
   "execution_count": 20,
   "id": "6d191c51",
   "metadata": {},
   "outputs": [],
   "source": [
    "def chiffrerEnigma(clair):\n",
    "    print(\"à faire\")\n",
    "    \n",
    "def dechiffrerEnigma(chifrré):\n",
    "    print(\" à faire \")"
   ]
  },
  {
   "cell_type": "markdown",
   "id": "0e053a98",
   "metadata": {},
   "source": [
    "- 1 Chiffrer le message suivant : CDBAFFE, le rotor étant dans la position initiale décrite précédemment."
   ]
  },
  {
   "cell_type": "markdown",
   "id": "bf5f39b1",
   "metadata": {},
   "source": [
    "### [Code ASCII]\n"
   ]
  },
  {
   "cell_type": "markdown",
   "id": "cd478ca3",
   "metadata": {},
   "source": [
    " - Déterminer le développement binaire et le développement hexadécimal du nombre décimal 215."
   ]
  },
  {
   "cell_type": "code",
   "execution_count": 32,
   "id": "5d190848",
   "metadata": {},
   "outputs": [
    {
     "data": {
      "text/plain": [
       "(' le binaire ', '0b11010111', \" l'hexa \", '0xd7')"
      ]
     },
     "execution_count": 32,
     "metadata": {},
     "output_type": "execute_result"
    }
   ],
   "source": [
    "\" le binaire \",bin(215), \" l'hexa \" ,hex(215)"
   ]
  },
  {
   "cell_type": "markdown",
   "id": "59968f3f",
   "metadata": {},
   "source": [
    "- Déterminer l'écriture ASCII de 'SECRET' sachant que 'A' est codé par 41 en hexadécimal"
   ]
  },
  {
   "cell_type": "code",
   "execution_count": 29,
   "id": "2e17680f",
   "metadata": {},
   "outputs": [
    {
     "data": {
      "text/plain": [
       "(' SECRET donne ', '0x53', '0x45', '0x43', '0x52', '0x45', '0x54')"
      ]
     },
     "execution_count": 29,
     "metadata": {},
     "output_type": "execute_result"
    }
   ],
   "source": [
    "\" SECRET donne \", hex(ord(\"S\")),hex(ord(\"E\")),hex(ord(\"C\")),hex(ord(\"R\")),hex(ord(\"E\")),hex(ord(\"T\"))"
   ]
  },
  {
   "cell_type": "markdown",
   "id": "06401ce8",
   "metadata": {},
   "source": [
    "- Déterminer le chiffrement par XOR du message précédent avec la clé précédente (215)"
   ]
  },
  {
   "cell_type": "code",
   "execution_count": 43,
   "id": "db682787",
   "metadata": {},
   "outputs": [
    {
     "name": "stdout",
     "output_type": "stream",
     "text": [
      "11100010\n",
      "11111010\n",
      "11111100\n",
      "11100011\n",
      "11111010\n",
      "11100001\n"
     ]
    }
   ],
   "source": [
    "print('{0:b}'.format(int(bin(215)[2:],2) ^ int(bin( int( hex(ord(\"S\"))[2:] ) ) ,2)))\n",
    "print('{0:b}'.format(int(bin(215)[2:],2) ^ int(bin( int( hex(ord(\"E\"))[2:] ) ) ,2)))\n",
    "print('{0:b}'.format(int(bin(215)[2:],2) ^ int(bin( int( hex(ord(\"C\"))[2:] ) ) ,2)))\n",
    "print('{0:b}'.format(int(bin(215)[2:],2) ^ int(bin( int( hex(ord(\"R\"))[2:] ) ) ,2)))\n",
    "print('{0:b}'.format(int(bin(215)[2:],2) ^ int(bin( int( hex(ord(\"E\"))[2:] ) ) ,2)))\n",
    "print('{0:b}'.format(int(bin(215)[2:],2) ^ int(bin( int( hex(ord(\"T\"))[2:] ) ) ,2)))"
   ]
  },
  {
   "cell_type": "markdown",
   "id": "5611b552",
   "metadata": {},
   "source": [
    "## Cryptanalyse des Chiffrements  antiques "
   ]
  },
  {
   "cell_type": "markdown",
   "id": "000ba6d7",
   "metadata": {},
   "source": [
    " - Décrypter le message suivant : \u0013 OJQEFJGZJMXBTMNQFJPQOMXQ \u0014\n",
    "\n",
    "(indications : méthode de César mais pas la même clé, caractère espace mal codé)"
   ]
  },
  {
   "cell_type": "code",
   "execution_count": 69,
   "id": "1eb8cacd",
   "metadata": {},
   "outputs": [
    {
     "name": "stdout",
     "output_type": "stream",
     "text": [
      " possible texte clair  KFMABFCVFITXPIJMBFLMKITM   avec la clé de  =  4\n",
      " possible texte clair  JELZAEBUEHSWOHILAEKLJHSL   avec la clé de  =  5\n",
      " possible texte clair  IDKYZDATDGRVNGHKZDJKIGRK   avec la clé de  =  6\n",
      " possible texte clair  HCJXYCZSCFQUMFGJYCIJHFQJ   avec la clé de  =  7\n",
      " possible texte clair  GBIWXBYRBEPTLEFIXBHIGEPI   avec la clé de  =  8\n",
      " possible texte clair  FAHVWAXQADOSKDEHWAGHFDOH   avec la clé de  =  9\n",
      " possible texte clair  EZGUVZWPZCNRJCDGVZFGECNG   avec la clé de  =  10\n",
      " possible texte clair  DYFTUYVOYBMQIBCFUYEFDBMF   avec la clé de  =  11\n",
      " possible texte clair  CXESTXUNXALPHABETXDECALE   avec la clé de  =  12\n",
      " possible texte clair  BWDRSWTMWZKOGZADSWCDBZKD   avec la clé de  =  13\n",
      " possible texte clair  AVCQRVSLVYJNFYZCRVBCAYJC   avec la clé de  =  14\n",
      " possible texte clair  ZUBPQURKUXIMEXYBQUABZXIB   avec la clé de  =  15\n",
      " possible texte clair  YTAOPTQJTWHLDWXAPTZAYWHA   avec la clé de  =  16\n",
      " possible texte clair  XSZNOSPISVGKCVWZOSYZXVGZ   avec la clé de  =  17\n",
      " possible texte clair  WRYMNROHRUFJBUVYNRXYWUFY   avec la clé de  =  18\n",
      " possible texte clair  VQXLMQNGQTEIATUXMQWXVTEX   avec la clé de  =  19\n",
      " possible texte clair  UPWKLPMFPSDHZSTWLPVWUSDW   avec la clé de  =  20\n",
      " possible texte clair  TOVJKOLEORCGYRSVKOUVTRCV   avec la clé de  =  21\n",
      " possible texte clair  SNUIJNKDNQBFXQRUJNTUSQBU   avec la clé de  =  22\n",
      " possible texte clair  RMTHIMJCMPAEWPQTIMSTRPAT   avec la clé de  =  23\n",
      " possible texte clair  QLSGHLIBLOZDVOPSHLRSQOZS   avec la clé de  =  24\n"
     ]
    }
   ],
   "source": [
    "msg=\"OJQEFJGZJMXBTMNQFJPQOMXQ\"\n",
    "\n",
    "for i in range(4,25):\n",
    "    print(\" possible texte clair \",decffirerCesar(msg,i),\"  avec la clé de  = \",i)"
   ]
  },
  {
   "attachments": {
    "image.png": {
     "image/png": "[encoded data removed]"
    }
   },
   "cell_type": "markdown",
   "id": "48083980",
   "metadata": {},
   "source": [
    " - Décrypter le chiffré suivant, obtenu par substitution monoalphabétique, sachant que le caractère espace n'est pas chiffré ni la ponctuation :\n",
    " \n",
    "FSCALS WLOFCKLTW OL VAUULSATV WLBTL O'ASBLDKANFKAZSD DZCAFULD LK LCZSZ-\n",
    "VAJTLD VARFLU GUZVRBADK LDK CZSKFCKL PFW ILSWAR BFSNLW PFKWAFWCIL O'TS\n",
    "PTADDFSK NWZTPL ASOTDKWALU YFVAUAFU PZTW WLUFSCLW TSL LSJTLKL FGFS-\n",
    "OZSSLL OLPTAD 40 FSD DTW UF OADPFWAKAZS OL DF SALCL IFWWALK.\n",
    "\n",
    "Les fréquences d'apparition des lettres sont les suivantes (en pourcentage)\n",
    "\n",
    "![image.png](attachment:image.png)"
   ]
  },
  {
   "cell_type": "code",
   "execution_count": 230,
   "id": "2d3f84df",
   "metadata": {},
   "outputs": [],
   "source": [
    "\n",
    "def frequencesDansUnTexte(texte,lettre):\n",
    "    \n",
    "    s=0\n",
    "    N=len(texte)\n",
    "    for c in texte:\n",
    "        if c==lettre:\n",
    "            s+=1\n",
    "    return round(s/N,2)\n",
    "\n",
    "def frequences(chaine):\n",
    "    chaine=chaine.upper()\n",
    "    res=[]\n",
    "    lettre=\"A\"\n",
    "    for i in range(26):\n",
    "        res.append(frequencesDansUnTexte(chaine,lettre))\n",
    "        lettre=chr(ord(lettre)+1)\n",
    "    return res\n",
    "        \n",
    "        \n",
    "def apparitions(chaine):\n",
    "    app = [0] * 26\n",
    "    for c in chaine :\n",
    "        if c in string.ascii_uppercase:\n",
    "            app[ord(c) - ord('A')] += 1\n",
    "    return app\n"
   ]
  },
  {
   "cell_type": "code",
   "execution_count": 232,
   "id": "00a85c80",
   "metadata": {},
   "outputs": [],
   "source": [
    "freqDesLettresEnFr={ \"E\": 17.76, \"O\": 5.34, \"B\" :0.80,\"S\" :8.23,\"D\": 3.60,\"H\":0.64,\"A\" :7.68,\n",
    "                    \"C\": 3.32, \"X\": 0.54,\"N\": 7.61, \"P\": 3.24, \"Y\": 0.21,\"T\": 7.30,\"M\" : 2.72,\n",
    "                    \"J\": 0.19,\"I\": 7.23, \"Q\": 1.34, \"Z\": 0.07,\"R\": 6.81, \"V\": 1.27, \"K\": 0.00,\n",
    "                    \"U\": 6.05, \"G\": 1.10, \"W\": 0.00,\"L\": 5.89, \"F\": 1.06}\n",
    "\n",
    "listLettre=list(freqDesLettresEnFr.keys())"
   ]
  },
  {
   "cell_type": "code",
   "execution_count": 233,
   "id": "65dde6e8",
   "metadata": {},
   "outputs": [],
   "source": [
    "freqTextChiffré={ \"\":13.483, \"L\":12.360 ,\"A\":8.614, \"F\":7.865, \"S\":7.865, \"W\":6.367, \"D\":5.618,\n",
    "                 \"K\":5.243,\"T\":4.869, \"U\":3.745, \"Z\":3.745, \"C\":3.371, \"O\":3.371, \"P\":2.622, \n",
    "                 \"V\":2.247, \"B\":1.498,\"I\":1.124, \"N\":1.124, \"R\":1.124, \"'\":0.749, \"G\":0.749,\n",
    "                 \"J\":0.749, \"Y\":0.375, \".\":0.375,\"4\":0.375, \"0\":0.375 }"
   ]
  },
  {
   "cell_type": "code",
   "execution_count": 234,
   "id": "711a7544",
   "metadata": {},
   "outputs": [],
   "source": [
    "textChiffré=\"FSCALS WLOFCKLTW OL VAUULSATV WLBTL O'ASBLDKANFKAZSD DZCAFULD LK LCZSZVAJTLD VARFLU GUZVRBADK LDK CZSKFCKL PFW ILSWAR BFSNLW PFKWAFWCIL O'TS PTADDFSK NWZTPL ASOTDKWALU YFVAUAFU PZTW WLUFSCLW TSL LSJTLKL FGFSOZSSLL OLPTAD 40 FSD DTW UF OADPFWAKAZS OL DF SALCL IFWWALK.\""
   ]
  },
  {
   "cell_type": "markdown",
   "id": "9f3a7d67",
   "metadata": {},
   "source": [
    "### Tester avec Cesar"
   ]
  },
  {
   "cell_type": "code",
   "execution_count": 235,
   "id": "98a532fd",
   "metadata": {},
   "outputs": [
    {
     "name": "stdout",
     "output_type": "stream",
     "text": [
      "FSCALS WLOFCKLTW OL VAUULSATV WLBTL O'ASBLDKANFKAZSD DZCAFULD LK LCZSZVAJTLD VARFLU GUZVRBADK LDK CZSKFCKL PFW ILSWAR BFSNLW PFKWAFWCIL O'TS PTADDFSK NWZTPL ASOTDKWALU YFVAUAFU PZTW WLUFSCLW TSL LSJTLKL FGFSOZSSLL OLPTAD 40 FSD DTW UF OADPFWAKAZS OL DF SALCL IFWWALK. \n",
      "\n",
      "\n",
      "ZCBODC VDSZBJDNV SD UOTTDCONU VDFND S'OCFDMJORZJOYCM MYBOZTDM DJ DBYCYUOINDM UOQZDT ATYUQFOMJ DMJ BYCJZBJD LZV HDCVOQ FZCRDV LZJVOZVBHD S'NC LNOMMZCJ RVYNLD OCSNMJVODT XZUOTOZT LYNV VDTZCBDV NCD DCINDJD ZAZCSYCCDD SDLNOM 40 ZCM MNV TZ SOMLZVOJOYC SD MZ CODBD HZVVODJ. \n",
      "\n",
      "\n",
      "YBFSMB UMCYFIMRU CM TSNNMBSRT UMZRM C'SBZMEISQYISXBE EXFSYNME MI MFXBXTSHRME TSPYMN ONXTPZSEI MEI FXBIYFIM DYU GMBUSP ZYBQMU DYIUSYUFGM C'RB DRSEEYBI QUXRDM SBCREIUSMN WYTSNSYN DXRU UMNYBFMU RBM MBHRMIM YOYBCXBBMM CMDRSE 40 YBE ERU NY CSEDYUSISXB CM EY BSMFM GYUUSMI. \n",
      "\n",
      "\n",
      "XFZCEF TEBXZHEQT BE NCRREFCQN TEYQE B'CFYEKHCPXHCWFK KWZCXREK EH EZWFWNCGQEK NCLXER SRWNLYCKH EKH ZWFHXZHE MXT AEFTCL YXFPET MXHTCXTZAE B'QF MQCKKXFH PTWQME CFBQKHTCER VXNCRCXR MWQT TERXFZET QFE EFGQEHE XSXFBWFFEE BEMQCK 40 XFK KQT RX BCKMXTCHCWF BE KX FCEZE AXTTCEH. \n",
      "\n",
      "\n",
      "WZYBKZ NKFWYGKPN FK RBQQKZBPR NKXPK F'BZXKJGBLWGBVZJ JVYBWQKJ KG KYVZVRBAPKJ RBDWKQ CQVRDXBJG KJG YVZGWYGK EWN OKZNBD XWZLKN EWGNBWNYOK F'PZ EPBJJWZG LNVPEK BZFPJGNBKQ UWRBQBWQ EVPN NKQWZYKN PZK KZAPKGK WCWZFVZZKK FKEPBJ 40 WZJ JPN QW FBJEWNBGBVZ FK JW ZBKYK OWNNBKG. \n",
      "\n",
      "\n",
      "VYXFJY RJZVXAJLR ZJ QFPPJYFLQ RJWLJ Z'FYWJIAFDVAFUYI IUXFVPJI JA JXUYUQFOLJI QFMVJP BPUQMWFIA JIA XUYAVXAJ KVR SJYRFM WVYDJR KVARFVRXSJ Z'LY KLFIIVYA DRULKJ FYZLIARFJP TVQFPFVP KULR RJPVYXJR LYJ JYOLJAJ VBVYZUYYJJ ZJKLFI 40 VYI ILR PV ZFIKVRFAFUY ZJ IV YFJXJ SVRRFJA. \n",
      "\n",
      "\n",
      "UXWZIX QIYUWOIDQ YI PZLLIXZDP QIVDI Y'ZXVIHOZMUOZTXH HTWZULIH IO IWTXTPZSDIH PZEUIL FLTPEVZHO IHO WTXOUWOI JUQ CIXQZE VUXMIQ JUOQZUQWCI Y'DX JDZHHUXO MQTDJI ZXYDHOQZIL NUPZLZUL JTDQ QILUXWIQ DXI IXSDIOI UFUXYTXXII YIJDZH 40 UXH HDQ LU YZHJUQZOZTX YI HU XZIWI CUQQZIO. \n",
      "\n",
      "\n",
      "TWVYHW PHXTVSHMP XH LYDDHWYML PHUMH X'YWUHGSYETSYNWG GNVYTDHG HS HVNWNLYCMHG LYKTHD ZDNLKUYGS HGS VNWSTVSH ITP BHWPYK UTWEHP ITSPYTPVBH X'MW IMYGGTWS EPNMIH YWXMGSPYHD RTLYDYTD INMP PHDTWVHP MWH HWCMHSH TZTWXNWWHH XHIMYG 40 TWG GMP DT XYGITPYSYNW XH GT WYHVH BTPPYHS. \n",
      "\n",
      "\n",
      "NVUXGV LGWNUCGEL WG DXMMGVXED LGTEG W'XVTGACXKNCXRVA ARUXNMGA GC GURVRDXBEGA DXJNGM YMRDJTXAC GAC URVCNUCG HNL FGVLXJ TNVKGL HNCLXNLUFG W'EV HEXAANVC KLREHG XVWEACLXGM QNDXMXNM HREL LGMNVUGL EVG GVBEGCG NYNVWRVVGG WGHEXA 40 NVA AEL MN WXAHNLXCXRV WG AN VXGUG FNLLXGC. \n",
      "\n",
      "\n",
      "RUTWAU DAVRTBAKD VA MWEEAUWKM DANKA V'WUNAOBWJRBWQUO OQTWREAO AB ATQUQMWFKAO MWIRAE XEQMINWOB AOB TQUBRTBA GRD ZAUDWI NRUJAD GRBDWRDTZA V'KU GKWOORUB JDQKGA WUVKOBDWAE PRMWEWRE GQKD DAERUTAD KUA AUFKABA RXRUVQUUAA VAGKWO 40 RUO OKD ER VWOGRDWBWQU VA OR UWATA ZRDDWAB. \n",
      "\n",
      "\n",
      "QTNVOT MOUQNFOJM UO EVKKOTVJE MORJO U'VTROSFVIQFVPTS SPNVQKOS OF ONPTPEVZJOS EVHQOK WKPEHRVSF OSF NPTFQNFO AQM YOTMVH RQTIOM AQFMVQMNYO U'JT AJVSSQTF IMPJAO VTUJSFMVOK LQEVKVQK APJM MOKQTNOM JTO OTZJOFO QWQTUPTTOO UOAJVS 40 QTS SJM KQ UVSAQMVFVPT UO SQ TVONO YQMMVOF. \n",
      "\n",
      "\n",
      "PNRUSN ESTPRZSIE TS KUJJSNUIK ESQIS T'UNQSCZUHPZULNC CLRUPJSC SZ SRLNLKUYISC KUGPSJ VJLKGQUCZ SCZ RLNZPRZS OPE XSNEUG QPNHSE OPZEUPERXS T'IN OIUCCPNZ HELIOS UNTICZEUSJ DPKUJUPJ OLIE ESJPNRSE INS SNYISZS PVPNTLNNSS TSOIUC 40 PNC CIE JP TUCOPEUZULN TS CP NUSRS XPEEUSZ. \n",
      "\n",
      "\n",
      "LRQTCR KCNLQYCHK NC JTIICRTHJ KCPHC N'TRPCBYTGLYTDRB BDQTLICB CY CQDRDJTXHCB JTALCI UIDJAPTBY CBY QDRYLQYC SLK WCRKTA PLRGCK SLYKTLKQWC N'HR SHTBBLRY GKDHSC TRNHBYKTCI MLJTITLI SDHK KCILRQCK HRC CRXHCYC LULRNDRRCC NCSHTB 40 LRB BHK IL NTBSLKTYTDR NC BL RTCQC WLKKTCY. \n",
      "\n",
      "\n",
      "DQPNBQ JBRDPXBGJ RB INHHBQNGI JBLGB R'NQLBFXNADXNMQF FMPNDHBF BX BPMQMINWGBF INODBH THMIOLNFX BFX PMQXDPXB CDJ VBQJNO LDQABJ CDXJNDJPVB R'GQ CGNFFDQX AJMGCB NQRGFXJNBH EDINHNDH CMGJ JBHDQPBJ GQB BQWGBXB DTDQRMQQBB RBCGNF 40 DQF FGJ HD RNFCDJNXNMQ RB FD QNBPB VDJJNBX. \n",
      "\n",
      "\n",
      "MPLRFP IFQMLWFAI QF HRGGFPRAH IFDAF Q'RPDFZWROMWREPZ ZELRMGFZ FW FLEPEHRVAFZ HRSMFG NGEHSDRZW FZW LEPWMLWF BMI UFPIRS DMPOFI BMWIRMILUF Q'AP BARZZMPW OIEABF RPQAZWIRFG KMHRGRMG BEAI IFGMPLFI APF FPVAFWF MNMPQEPPFF QFBARZ 40 MPZ ZAI GM QRZBMIRWREP QF ZM PRFLF UMIIRFW. \n",
      "\n",
      "\n",
      "ELDQZL HZPEDVZOH PZ GQAAZLQOG HZMOZ P'QLMZYVQSEVQKLY YKDQEAZY ZV ZDKLKGQUOZY GQCEZA RAKGCMQYV ZYV DKLVEDVZ FEH TZLHQC MELSZH FEVHQEHDTZ P'OL FOQYYELV SHKOFZ QLPOYVHQZA JEGQAQEA FKOH HZAELDZH OLZ ZLUOZVZ ERELPKLLZZ PZFOQY 40 ELY YOH AE PQYFEHQVQKL PZ YE LQZDZ TEHHQZV. \n",
      "\n",
      "\n",
      "KDMPYD GYLKMUYSG LY APOOYDPSA GYESY L'PDEYXUPCKUPJDX XJMPKOYX YU YMJDJAPTSYX APBKYO QOJABEPXU YXU MJDUKMUY ZKG NYDGPB EKDCYG ZKUGPKGMNY L'SD ZSPXXKDU CGJSZY PDLSXUGPYO IKAPOPKO ZJSG GYOKDMYG SDY YDTSYUY KQKDLJDDYY LYZSPX 40 KDX XSG OK LPXZKGPUPJD LY XK DPYMY NKGGPYU. \n",
      "\n",
      "\n",
      "JMELXM AXDJETXCA DX OLSSXMLCO AXKCX D'LMKXWTLBJTLIMW WIELJSXW XT XEIMIOLNCXW OLFJXS PSIOFKLWT XWT EIMTJETX YJA RXMALF KJMBXA YJTALJAERX D'CM YCLWWJMT BAICYX LMDCWTALXS HJOLSLJS YICA AXSJMEXA CMX XMNCXTX JPJMDIMMXX DXYCLW 40 JMW WCA SJ DLWYJALTLIM DX WJ MLXEX RJAALXT. \n",
      "\n",
      "\n",
      "IEKDWE OWMIKNWBO MW SDCCWEDBS OWJBW M'DEJWVNDFINDHEV VHKDICWV WN WKHEHSDRBWV SDZIWC LCHSZJDVN WVN KHENIKNW XIO QWEODZ JIEFWO XINODIOKQW M'BE XBDVVIEN FOHBXW DEMBVNODWC GISDCDIC XHBO OWCIEKWO BEW WERBWNW ILIEMHEEWW MWXBDV 40 IEV VBO CI MDVXIODNDHE MW VI EDWKW QIOODWN. \n",
      "\n",
      "\n",
      "HKJMVK SVEHJRVFS EV CMBBVKMFC SVIFV E'MKIVURMZHRMGKU UGJMHBVU VR VJGKGCMQFVU CMYHVB DBGCYIMUR VUR JGKRHJRV WHS PVKSMY IHKZVS WHRSMHSJPV E'FK WFMUUHKR ZSGFWV MKEFURSMVB AHCMBMHB WGFS SVBHKJVS FKV VKQFVRV HDHKEGKKVV EVWFMU 40 HKU UFS BH EMUWHSMRMGK EV UH KMVJV PHSSMVR. \n",
      "\n",
      "\n",
      "GJIEUJ CUKGIQUZC KU BEFFUJEZB CUHZU K'EJHUTQEYGQEAJT TAIEGFUT UQ UIAJABEPZUT BEXGUF MFABXHETQ UTQ IAJQGIQU VGC LUJCEX HGJYUC VGQCEGCILU K'ZJ VZETTGJQ YCAZVU EJKZTQCEUF OGBEFEGF VAZC CUFGJIUC ZJU UJPZUQU GMGJKAJJUU KUVZET 40 GJT TZC FG KETVGCEQEAJ KU TG JEUIU LGCCEUQ. \n",
      "\n",
      "\n",
      "AIHKTI BTJAHPTYB JT FKZZTIKYF BTGYT J'KIGTNPKXAPKOIN NOHKAZTN TP THOIOFKLYTN FKWATZ EZOFWGKNP TNP HOIPAHPT UAB DTIBKW GAIXTB UAPBKABHDT J'YI UYKNNAIP XBOYUT KIJYNPBKTZ SAFKZKAZ UOYB BTZAIHTB YIT TILYTPT AEAIJOIITT JTUYKN 40 AIN NYB ZA JKNUABKPKOI JT NA IKTHT DABBKTP. \n",
      "\n",
      "\n",
      "OHGJNH FNIOGLNXF IN ZJYYNHJXZ FNAXN I'JHANRLJWOLJSHR RSGJOYNR NL NGSHSZJDXNR ZJVONY KYSZVAJRL NRL GSHLOGLN TOF MNHFJV AOHWNF TOLFJOFGMN I'XH TXJRROHL WFSXTN JHIXRLFJNY COZJYJOY TSXF FNYOHGNF XHN NHDXNLN OKOHISHHNN INTXJR 40 OHR RXF YO IJRTOFJLJSH IN RO HJNGN MOFFJNL. \n",
      "\n",
      "\n",
      "SGAIRG ZRHSADRWZ HR YIXXRGIWY ZROWR H'IGORQDIVSDICGQ QCAISXRQ RD RACGCYIMWRQ YIUSRX JXCYUOIQD RQD ACGDSADR NSZ ERGZIU OSGVRZ NSDZISZAER H'WG NWIQQSGD VZCWNR IGHWQDZIRX BSYIXISX NCWZ ZRXSGARZ WGR RGMWRDR SJSGHCGGRR HRNWIQ 40 SGQ QWZ XS HIQNSZIDICG HR QS GIRAR ESZZIRD. \n",
      "\n",
      "\n",
      "CAOHQA YQGCOMQVY GQ XHWWQAHVX YQSVQ G'HASQPMHUCMHBAP PBOHCWQP QM QOBABXHEVQP XHTCQW IWBXTSHPM QPM OBAMCOMQ RCY KQAYHT SCAUQY RCMYHCYOKQ G'VA RVHPPCAM UYBVRQ HAGVPMYHQW FCXHWHCW RBVY YQWCAOQY VAQ QAEVQMQ CICAGBAAQQ GQRVHP 40 CAP PVY WC GHPRCYHMHBA GQ PC AHQOQ KCYYHQM. \n",
      "\n",
      "\n",
      "BOSGPO XPABSEPUX AP WGVVPOGUW XPCUP A'GOCPLEGTBEGFOL LFSGBVPL PE PSFOFWGKUPL WGNBPV HVFWNCGLE PLE SFOEBSEP QBX JPOXGN CBOTPX QBEXGBXSJP A'UO QUGLLBOE TXFUQP GOAULEXGPV ZBWGVGBV QFUX XPVBOSPX UOP POKUPEP BHBOAFOOPP APQUGL 40 BOL LUX VB AGLQBXGEGFO AP LB OGPSP JBXXGPE. \n",
      "\n",
      "\n"
     ]
    }
   ],
   "source": [
    "for i in range(0,26):\n",
    "    res=\"\"\n",
    "    for item in textChiffré:\n",
    "        if item not in [\"'\",\".\",\" \",\"4\",\"0\"]:\n",
    "            res+=decffirerCesar(item,i)\n",
    "        else:\n",
    "            res+=item\n",
    "    print(res,\"\\n\\n\")\n"
   ]
  },
  {
   "cell_type": "markdown",
   "id": "1c26feeb",
   "metadata": {},
   "source": [
    "### [Indice de coïncidence]\n",
    "\n",
    "\n"
   ]
  },
  {
   "cell_type": "markdown",
   "id": "9f80b230",
   "metadata": {},
   "source": [
    "1. Calculer l'indice de coïncidence théorique d'un texte en français selon la répartition des lettres donnée en dessus."
   ]
  },
  {
   "cell_type": "code",
   "execution_count": 236,
   "id": "5cbd56ff",
   "metadata": {},
   "outputs": [
    {
     "data": {
      "text/plain": [
       "0.0707920202020202"
      ]
     },
     "execution_count": 236,
     "metadata": {},
     "output_type": "execute_result"
    }
   ],
   "source": [
    "def ic(freq):\n",
    "    num = 0.0\n",
    "    den = 0.0\n",
    "    for i in range(len(freq)):\n",
    "        val = freq[i]\n",
    "        num += val * (val - 1)\n",
    "        den += val\n",
    "    if (den == 0.0):\n",
    "        return 0.0\n",
    "    else:\n",
    "        return num / ( den * (den - 1))\n",
    "\n",
    "ic(list(freqDesLettresEnFr.values()))"
   ]
  },
  {
   "cell_type": "markdown",
   "id": "c18dca4c",
   "metadata": {},
   "source": [
    "2. Calculer l'indice de coïncidence théorique du texte de l'exercice précédent."
   ]
  },
  {
   "cell_type": "code",
   "execution_count": 237,
   "id": "cc111643",
   "metadata": {},
   "outputs": [
    {
     "data": {
      "text/plain": [
       "0.06330594161434484"
      ]
     },
     "execution_count": 237,
     "metadata": {},
     "output_type": "execute_result"
    }
   ],
   "source": [
    "ic(list(freqTextChiffré.values()))"
   ]
  },
  {
   "cell_type": "markdown",
   "id": "9471addf",
   "metadata": {},
   "source": [
    "\n",
    "3. Calculer l'indice de coïncidence mutuelle entre un message théorique (dont les occurences d'apparition des lettres sont conformes à la répartition théorique) et\n",
    "\n",
    " * a) d'un message clair :  il est rapide meme tres rapide  \n"
   ]
  },
  {
   "cell_type": "code",
   "execution_count": 239,
   "id": "24ad9327",
   "metadata": {},
   "outputs": [
    {
     "data": {
      "text/plain": [
       "4.087412587412588"
      ]
     },
     "execution_count": 239,
     "metadata": {},
     "output_type": "execute_result"
    }
   ],
   "source": [
    "ic(frequences(\"IL EST RAPIDE MEME TRES RAPIDE \"))"
   ]
  },
  {
   "cell_type": "markdown",
   "id": "e5ddadd5",
   "metadata": {},
   "source": [
    " * b) du message précédent chiffré par César.\n",
    "\n",
    "Déterminer ainsi une méthode de déchiffrement automatique du chiffrement par décalage"
   ]
  },
  {
   "cell_type": "code",
   "execution_count": 240,
   "id": "8317bb5e",
   "metadata": {},
   "outputs": [
    {
     "data": {
      "text/plain": [
       "7868689268941732.0"
      ]
     },
     "execution_count": 240,
     "metadata": {},
     "output_type": "execute_result"
    }
   ],
   "source": [
    "ic(frequences(chiffrerCesar(\"IL EST RAPIDE MEME TRES RAPIDE \",3)))"
   ]
  },
  {
   "cell_type": "markdown",
   "id": "c27f7188",
   "metadata": {},
   "source": [
    "### Décrypter le message suivant (Chiffrement de Vigenère).\n",
    "\n",
    "VIQLPCCILMSPOZCBXQVIQCIGQPCCHCTEZVSLNWYMGSOMJVEGOR\n",
    "RVLGBSLNIJVICXPCEVNYXNKGGPMOEISXXYCHCFSGHHMSWCKYVM\n",
    "VGKMRFIPCPCCWGVPMXWQSHMEGCWILDUSSPLOJYEXNKWBKYRBIQ\n",
    "WYQSUSOW"
   ]
  },
  {
   "cell_type": "code",
   "execution_count": 251,
   "id": "37d348f9",
   "metadata": {},
   "outputs": [],
   "source": [
    "vigenerDécrypter=\"VIQLPCCILMSPOZCBXQVIQCIGQPCCHCTEZVSLNWYMGSOMJVEGORRVLGBSLNIJVICXPCEVNYXNKGGPMOEISXXYCHCFSGHHMSWCKYVMVGKMRFIPCPCCWGVPMXWQSHMEGCWILDUSSPLOJYEXNKWBKYRBIQWYQSUSOW\""
   ]
  },
  {
   "cell_type": "markdown",
   "id": "a085018f",
   "metadata": {},
   "source": [
    "Ecrire une fonction pgcd qui calcule le PGCD de deux entiers positifs ou nuls passés en paramètres, et\n",
    "ce par soustractions successives."
   ]
  },
  {
   "cell_type": "code",
   "execution_count": 245,
   "id": "ffa2a171",
   "metadata": {},
   "outputs": [],
   "source": [
    "def pgcd (a,b) :\n",
    "    if a == 0 :\n",
    "        return b\n",
    "    elif b == 0 :\n",
    "        return a\n",
    "    while a != b :\n",
    "        if a > b :\n",
    "            a -= b\n",
    "        else :\n",
    "            b -= a\n",
    "    return a"
   ]
  },
  {
   "cell_type": "markdown",
   "id": "29728aff",
   "metadata": {},
   "source": [
    "Ecrire une fonction pgcdDistancesEntreRepetitions qui prend en paramètres le texte crypté t de\n",
    "longueur n et un entier 𝑖 ∈ [0, 𝑛 − 3] \n",
    "\n",
    "qui est l’indice d’une lettre dans t. \n",
    "\n",
    "La fonction retourne le PGCD de toutes les distances entre les répétitions de la séquence de 3 lettres t[i], t[i+1], t[i+2]\n",
    "\n",
    "dans le texte t[i+3] t[i+4] ... t[n-1]. Cette fonction retourne 0 s’il n’y a pas de répétition."
   ]
  },
  {
   "cell_type": "code",
   "execution_count": 247,
   "id": "11762873",
   "metadata": {},
   "outputs": [],
   "source": [
    "#On parcourt la liste à partir de l’indice i+3 pour trouver les occurrences de la séquence de lettres t[i],\n",
    "#t[i+1], t[i+2]. Lorsqu’on en trouve une, on calcule sa distance à la précédente en utilisant la variable pos\n",
    "#qui mémorise la dernière position trouvée.\n",
    "def pgcdDistancesEntreRepetitions (t,i) :\n",
    "    d = 0 # initialisation du pgcd\n",
    "    pos = i # dernière position de la séquence cherchée\n",
    "    n = len(t)\n",
    "    for j in range(i+3,n-2) :\n",
    "        if (t[i], t[i+1], t[i+2]) == (t[j], t[j+1], t[j+2]) :\n",
    "    # j-pos est la nouvelle distance\n",
    "    # on actualise la nouvelle valeur du pgcd\n",
    "            d = pgcd(d,j-pos)\n",
    "            pos = j # j est la dernière position de la séquence\n",
    "    return d"
   ]
  },
  {
   "cell_type": "markdown",
   "id": "5b05a21d",
   "metadata": {},
   "source": [
    "Ecrire une fonction longueurCle qui prend en paramètres le texte crypté t et qui retourne la longueur\n",
    "k probable de la clé de codage."
   ]
  },
  {
   "cell_type": "code",
   "execution_count": 250,
   "id": "76ac227d",
   "metadata": {},
   "outputs": [],
   "source": [
    "#On utilise la fonction précédente pour créer une liste de tous les pgcd des distances entre les répétitions\n",
    "#des séquences t[i], t[i+1], t[i+2] pour i allant de 0 à n – 6 où n est la longueur de t. Puis, on calcule le\n",
    "#pgcd de tous les éléments de cette liste.\n",
    "def longueurCle (t) :\n",
    "    n = len(t)\n",
    "    L = [pgcdDistancesEntreRepetitions(t,i) for i in range(n-5)]\n",
    "    d = 0\n",
    "    for k in L :\n",
    "        if k != 0 :\n",
    "            d = pgcd(k,d)\n",
    "    return d"
   ]
  },
  {
   "cell_type": "markdown",
   "id": "3d7bfbce",
   "metadata": {},
   "source": [
    "- Calculer la longueur de la clé utilisée."
   ]
  },
  {
   "cell_type": "code",
   "execution_count": 253,
   "id": "9bf40772",
   "metadata": {},
   "outputs": [
    {
     "data": {
      "text/plain": [
       "3"
      ]
     },
     "execution_count": 253,
     "metadata": {},
     "output_type": "execute_result"
    }
   ],
   "source": [
    "longueurCle(vigenerDécrypter)"
   ]
  },
  {
   "cell_type": "markdown",
   "id": "d3a914b8",
   "metadata": {},
   "source": [
    "- Quelle est la clé utilisée?"
   ]
  },
  {
   "cell_type": "code",
   "execution_count": 261,
   "id": "f4403c86",
   "metadata": {},
   "outputs": [],
   "source": [
    "def frequenceLettres (t) :\n",
    "    return [t.count(i) / len(t) for i in range(26)]"
   ]
  },
  {
   "cell_type": "code",
   "execution_count": 285,
   "id": "d8cb2334",
   "metadata": {},
   "outputs": [],
   "source": [
    "#On utilise deux fonctions : une première qui permet de retrouver la clé et une seconde fonction qui\n",
    "#décode.\n",
    "def estimerCle (t) :\n",
    "    k = longueurCle(t)\n",
    "    cle = [0 for j in range(k)]\n",
    "    q = len(t) // k\n",
    "    # on crée un tableau M contenant le texte de sorte que les éléments d’une\n",
    "    # même colonne soient codés avec le même décalage\n",
    "    M = np.zeros((q+1,k),dtype = '<U3')\n",
    "    for i in range(q) :\n",
    "        #print([t[i*k+j] for j in range(k)])\n",
    "        M[i,:] = [t[i*k+j] for j in range(k)]\n",
    "    M[q,0:len(t)-q*k] = [t[q*k+j] for j in range(len(t)-q*k)]\n",
    "    for j in range(k) :\n",
    "        # on determine la lettre de la colonne j de la clé\n",
    "        L = frequenceLettres(list(M[:q,j]))\n",
    "        m, max = 0, L[0]\n",
    "        for i in range(1,len(L)) :\n",
    "            if L[i] > max :\n",
    "                m, max = i, L[i]\n",
    "        cle[j] = (m-4) % 26\n",
    "    return cle"
   ]
  },
  {
   "cell_type": "code",
   "execution_count": 286,
   "id": "65b22ce9",
   "metadata": {},
   "outputs": [
    {
     "data": {
      "text/plain": [
       "[22, 22, 22]"
      ]
     },
     "execution_count": 286,
     "metadata": {},
     "output_type": "execute_result"
    }
   ],
   "source": [
    "estimerCle(vigenerDécrypter)"
   ]
  },
  {
   "cell_type": "markdown",
   "id": "89e9b770",
   "metadata": {},
   "source": [
    "- Quel est le message?"
   ]
  },
  {
   "cell_type": "code",
   "execution_count": 289,
   "id": "a1ad7440",
   "metadata": {},
   "outputs": [],
   "source": [
    "def decodageVigenereAuto (t) :\n",
    "    alph=list(string.ascii_uppercase)\n",
    "    c = estimerCle(t)\n",
    "    n, k = len(t), len(c)\n",
    "    return [ alph[( alph.index(t[i])-c[i%k]) % 26] for i in range(n)]"
   ]
  },
  {
   "cell_type": "code",
   "execution_count": 292,
   "id": "ff8ca338",
   "metadata": {},
   "outputs": [
    {
     "data": {
      "text/plain": [
       "'ZMUPTGGMPQWTSDGFBUZMUGMKUTGGLGXIDZWPRACQKWSQNZIKSVVZPKFWPRMNZMGBTGIZRCBROKKTQSIMWBBCGLGJWKLLQWAGOCZQZKOQVJMTGTGGAKZTQBAUWLQIKGAMPHYWWTPSNCIBROAFOCVFMUACUWYWSA'"
      ]
     },
     "execution_count": 292,
     "metadata": {},
     "output_type": "execute_result"
    }
   ],
   "source": [
    "res=\"\"\n",
    "for item in decodageVigenereAuto(vigenerDécrypter):\n",
    "    res+=item\n",
    "res"
   ]
  },
  {
   "cell_type": "code",
   "execution_count": null,
   "id": "4f5290c1",
   "metadata": {},
   "outputs": [],
   "source": []
  },
  {
   "cell_type": "code",
   "execution_count": null,
   "id": "a3283d9c",
   "metadata": {},
   "outputs": [],
   "source": []
  }
 ],
 "metadata": {
  "kernelspec": {
   "display_name": "Python 3",
   "language": "python",
   "name": "python3"
  },
  "language_info": {
   "codemirror_mode": {
    "name": "ipython",
    "version": 3
   },
   "file_extension": ".py",
   "mimetype": "text/x-python",
   "name": "python",
   "nbconvert_exporter": "python",
   "pygments_lexer": "ipython3",
   "version": "3.6.9"
  }
 },
 "nbformat": 4,
 "nbformat_minor": 5
}
